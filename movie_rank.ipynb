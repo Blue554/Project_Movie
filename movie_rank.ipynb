{
  "nbformat": 4,
  "nbformat_minor": 0,
  "metadata": {
    "colab": {
      "provenance": [],
      "collapsed_sections": [],
      "authorship_tag": "ABX9TyOOFpRaZNxsmkLN4TMNvix6",
      "include_colab_link": true
    },
    "kernelspec": {
      "name": "python3",
      "display_name": "Python 3"
    },
    "language_info": {
      "name": "python"
    }
  },
  "cells": [
    {
      "cell_type": "markdown",
      "metadata": {
        "id": "view-in-github",
        "colab_type": "text"
      },
      "source": [
        "<a href=\"https://colab.research.google.com/github/Blue554/Project_Movie/blob/main/movie_rank.ipynb\" target=\"_parent\"><img src=\"https://colab.research.google.com/assets/colab-badge.svg\" alt=\"Open In Colab\"/></a>"
      ]
    },
    {
      "cell_type": "markdown",
      "source": [
        "코드 1. 필요 패키지 및 드라이버 설치"
      ],
      "metadata": {
        "id": "gw3t3LOJUPeK"
      }
    },
    {
      "cell_type": "code",
      "execution_count": null,
      "metadata": {
        "id": "rkgeTyUkT4Rr"
      },
      "outputs": [],
      "source": [
        "import requests\n",
        "import json\n",
        "import pandas as pd\n",
        "import datetime\n"
      ]
    },
    {
      "cell_type": "markdown",
      "source": [
        "코드 2. (어제)영화 순위 가져오기 및 api key 등록"
      ],
      "metadata": {
        "id": "hLIdXIGCUO-p"
      }
    },
    {
      "cell_type": "code",
      "source": [
        "d_today = datetime.date.today()\n",
        "yesterday = d_today - datetime.timedelta(1)\n",
        "d_date = yesterday.strftime(\"%Y%m%d\")\n",
        "movie_key = \"ee7bfcd03b5a6ce684caeac3a084b73a\"\n",
        "\n"
      ],
      "metadata": {
        "id": "dAUmpyvTT-iQ"
      },
      "execution_count": null,
      "outputs": []
    },
    {
      "cell_type": "markdown",
      "source": [
        "코드3. url 접속 및 text가져오기"
      ],
      "metadata": {
        "id": "c1Ck8CRSUbOl"
      }
    },
    {
      "cell_type": "code",
      "source": [
        "url = f'http://www.kobis.or.kr/kobisopenapi/webservice/rest/boxoffice/searchDailyBoxOfficeList.json?key={movie_key}&targetDt={d_date}'\n",
        "res = requests.get(url)\n",
        "text = res.text\n",
        "\n"
      ],
      "metadata": {
        "id": "DUrHN4-1UAAn"
      },
      "execution_count": null,
      "outputs": []
    },
    {
      "cell_type": "markdown",
      "source": [
        "코드4. 영화 순위 가져오기\n"
      ],
      "metadata": {
        "id": "Zg7Tsr79U4tr"
      }
    },
    {
      "cell_type": "code",
      "source": [
        "d = json.loads(text)\n",
        "movie = []\n",
        "for b in d['boxOfficeResult']['dailyBoxOfficeList']:\n",
        "    movie.append([b['rank'], b['movieNm']])\n",
        "data = pd.DataFrame(movie)\n",
        "data.to_csv(\"movie_rank.txt\", mode='w', encoding='utf-8', index=False)"
      ],
      "metadata": {
        "id": "ViPcppSXUBig"
      },
      "execution_count": null,
      "outputs": []
    }
  ]
}